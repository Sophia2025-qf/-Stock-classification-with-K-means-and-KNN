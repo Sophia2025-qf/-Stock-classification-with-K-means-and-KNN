{
 "cells": [
  {
   "cell_type": "code",
   "execution_count": 160,
   "metadata": {},
   "outputs": [],
   "source": [
    "import pandas as pd\n",
    "import numpy as np\n",
    "import matplotlib.pyplot as plt\n",
    "import seaborn as sns\n",
    "from sklearn.cluster import KMeans\n",
    "from sklearn.preprocessing import StandardScaler\n",
    "from sklearn.neighbors import KNeighborsClassifier\n",
    "from sklearn.model_selection import train_test_split\n",
    "from sklearn.metrics import accuracy_score"
   ]
  },
  {
   "cell_type": "code",
   "execution_count": 185,
   "metadata": {},
   "outputs": [],
   "source": [
    "#Read data\n",
    "data = pd.read_excel('/Users/dr/Documents/GitHub/KMeans and KNN/-Stock-classification-with-K-means-and-KNN-1/RTY as of Oct 25 20241_rrmkcreo.xlsx', engine='openpyxl')"
   ]
  },
  {
   "cell_type": "code",
   "execution_count": 186,
   "metadata": {},
   "outputs": [
    {
     "data": {
      "text/html": [
       "<div>\n",
       "<style scoped>\n",
       "    .dataframe tbody tr th:only-of-type {\n",
       "        vertical-align: middle;\n",
       "    }\n",
       "\n",
       "    .dataframe tbody tr th {\n",
       "        vertical-align: top;\n",
       "    }\n",
       "\n",
       "    .dataframe thead th {\n",
       "        text-align: right;\n",
       "    }\n",
       "</style>\n",
       "<table border=\"1\" class=\"dataframe\">\n",
       "  <thead>\n",
       "    <tr style=\"text-align: right;\">\n",
       "      <th></th>\n",
       "      <th>Ticker</th>\n",
       "      <th>Name</th>\n",
       "      <th>Weight</th>\n",
       "      <th>Shares</th>\n",
       "      <th>Price</th>\n",
       "      <th>BEst PEG Ratio:Y\\n</th>\n",
       "      <th>Market Cap LF\\n</th>\n",
       "      <th>P/B 5Yr Avg LF\\n</th>\n",
       "      <th>P/S 5Yr Avg LF\\n</th>\n",
       "      <th>Rev Gr Adj 5Y CAGR LF\\n</th>\n",
       "      <th>P/CF 5Yr Avg LF\\n</th>\n",
       "      <th>BV - 5 Yr Geo Gr LF\\n</th>\n",
       "      <th>CF/Sh - 5 Yr Geo Gr LF\\n</th>\n",
       "      <th>Basic EPS - 5 Year Average Growth LF\\n</th>\n",
       "      <th>BEst Est LTG EPS\\n</th>\n",
       "      <th>Dvd Ind Yld\\n</th>\n",
       "      <th>BEst P/E BF12M\\n</th>\n",
       "    </tr>\n",
       "  </thead>\n",
       "  <tbody>\n",
       "    <tr>\n",
       "      <th>0</th>\n",
       "      <td>TGTX UR Equity</td>\n",
       "      <td>TG Therapeutics Inc</td>\n",
       "      <td>--</td>\n",
       "      <td>--</td>\n",
       "      <td>23.480</td>\n",
       "      <td>1.219984</td>\n",
       "      <td>2754470912</td>\n",
       "      <td>29.274418</td>\n",
       "      <td>35.469791</td>\n",
       "      <td>354.21405</td>\n",
       "      <td>--</td>\n",
       "      <td>51.98077</td>\n",
       "      <td>--</td>\n",
       "      <td>--</td>\n",
       "      <td>183.01</td>\n",
       "      <td>--</td>\n",
       "      <td>33.822326</td>\n",
       "    </tr>\n",
       "    <tr>\n",
       "      <th>1</th>\n",
       "      <td>AXNX UW Equity</td>\n",
       "      <td>Axonics Inc</td>\n",
       "      <td>--</td>\n",
       "      <td>--</td>\n",
       "      <td>70.140</td>\n",
       "      <td>3.109805</td>\n",
       "      <td>3429709056</td>\n",
       "      <td>4.959128</td>\n",
       "      <td>8.200708</td>\n",
       "      <td>138.390976</td>\n",
       "      <td>--</td>\n",
       "      <td>25.707512</td>\n",
       "      <td>--</td>\n",
       "      <td>--</td>\n",
       "      <td>175.53</td>\n",
       "      <td>--</td>\n",
       "      <td>109.80486</td>\n",
       "    </tr>\n",
       "    <tr>\n",
       "      <th>2</th>\n",
       "      <td>WGS UW Equity</td>\n",
       "      <td>GeneDx Holdings Corp</td>\n",
       "      <td>--</td>\n",
       "      <td>--</td>\n",
       "      <td>60.250</td>\n",
       "      <td>--</td>\n",
       "      <td>703855680</td>\n",
       "      <td>1.196106</td>\n",
       "      <td>0.803663</td>\n",
       "      <td>--</td>\n",
       "      <td>--</td>\n",
       "      <td>--</td>\n",
       "      <td>--</td>\n",
       "      <td>--</td>\n",
       "      <td>148.00</td>\n",
       "      <td>--</td>\n",
       "      <td>--</td>\n",
       "    </tr>\n",
       "    <tr>\n",
       "      <th>3</th>\n",
       "      <td>ULCC UW Equity</td>\n",
       "      <td>Frontier Group Holdings Inc</td>\n",
       "      <td>--</td>\n",
       "      <td>--</td>\n",
       "      <td>6.985</td>\n",
       "      <td>--</td>\n",
       "      <td>1106645376</td>\n",
       "      <td>2.805808</td>\n",
       "      <td>0.402562</td>\n",
       "      <td>8.841541</td>\n",
       "      <td>--</td>\n",
       "      <td>--</td>\n",
       "      <td>--</td>\n",
       "      <td>54.347534</td>\n",
       "      <td>126.26</td>\n",
       "      <td>--</td>\n",
       "      <td>15.980725</td>\n",
       "    </tr>\n",
       "    <tr>\n",
       "      <th>4</th>\n",
       "      <td>RELY UW Equity</td>\n",
       "      <td>Remitly Global Inc</td>\n",
       "      <td>--</td>\n",
       "      <td>--</td>\n",
       "      <td>14.640</td>\n",
       "      <td>2.77041</td>\n",
       "      <td>3659426304</td>\n",
       "      <td>--</td>\n",
       "      <td>--</td>\n",
       "      <td>--</td>\n",
       "      <td>--</td>\n",
       "      <td>--</td>\n",
       "      <td>--</td>\n",
       "      <td>--</td>\n",
       "      <td>98.00</td>\n",
       "      <td>--</td>\n",
       "      <td>59.219034</td>\n",
       "    </tr>\n",
       "  </tbody>\n",
       "</table>\n",
       "</div>"
      ],
      "text/plain": [
       "           Ticker                         Name Weight Shares   Price  \\\n",
       "0  TGTX UR Equity          TG Therapeutics Inc     --     --  23.480   \n",
       "1  AXNX UW Equity                  Axonics Inc     --     --  70.140   \n",
       "2   WGS UW Equity         GeneDx Holdings Corp     --     --  60.250   \n",
       "3  ULCC UW Equity  Frontier Group Holdings Inc     --     --   6.985   \n",
       "4  RELY UW Equity           Remitly Global Inc     --     --  14.640   \n",
       "\n",
       "  BEst PEG Ratio:Y\\n Market Cap LF\\n P/B 5Yr Avg LF\\n P/S 5Yr Avg LF\\n  \\\n",
       "0           1.219984      2754470912        29.274418        35.469791   \n",
       "1           3.109805      3429709056         4.959128         8.200708   \n",
       "2                 --       703855680         1.196106         0.803663   \n",
       "3                 --      1106645376         2.805808         0.402562   \n",
       "4            2.77041      3659426304               --               --   \n",
       "\n",
       "  Rev Gr Adj 5Y CAGR LF\\n P/CF 5Yr Avg LF\\n BV - 5 Yr Geo Gr LF\\n  \\\n",
       "0               354.21405                --              51.98077   \n",
       "1              138.390976                --             25.707512   \n",
       "2                      --                --                    --   \n",
       "3                8.841541                --                    --   \n",
       "4                      --                --                    --   \n",
       "\n",
       "  CF/Sh - 5 Yr Geo Gr LF\\n Basic EPS - 5 Year Average Growth LF\\n  \\\n",
       "0                       --                                     --   \n",
       "1                       --                                     --   \n",
       "2                       --                                     --   \n",
       "3                       --                              54.347534   \n",
       "4                       --                                     --   \n",
       "\n",
       "   BEst Est LTG EPS\\n Dvd Ind Yld\\n BEst P/E BF12M\\n  \n",
       "0              183.01            --        33.822326  \n",
       "1              175.53            --        109.80486  \n",
       "2              148.00            --               --  \n",
       "3              126.26            --        15.980725  \n",
       "4               98.00            --        59.219034  "
      ]
     },
     "execution_count": 186,
     "metadata": {},
     "output_type": "execute_result"
    }
   ],
   "source": [
    "data.head()"
   ]
  },
  {
   "cell_type": "code",
   "execution_count": 187,
   "metadata": {},
   "outputs": [
    {
     "data": {
      "text/plain": [
       "Index(['Ticker', 'Name', 'Weight', 'Shares', 'Price', 'BEst PEG Ratio:Y\\n',\n",
       "       'Market Cap LF\\n', 'P/B 5Yr Avg LF\\n', 'P/S 5Yr Avg LF\\n',\n",
       "       'Rev Gr Adj 5Y CAGR LF\\n', 'P/CF 5Yr Avg LF\\n', 'BV - 5 Yr Geo Gr LF\\n',\n",
       "       'CF/Sh - 5 Yr Geo Gr LF\\n', 'Basic EPS - 5 Year Average Growth LF\\n',\n",
       "       'BEst Est LTG EPS\\n', 'Dvd Ind Yld\\n', 'BEst P/E BF12M\\n'],\n",
       "      dtype='object')"
      ]
     },
     "execution_count": 187,
     "metadata": {},
     "output_type": "execute_result"
    }
   ],
   "source": [
    "data.columns"
   ]
  },
  {
   "cell_type": "code",
   "execution_count": 188,
   "metadata": {},
   "outputs": [
    {
     "data": {
      "text/plain": [
       "(1972, 17)"
      ]
     },
     "execution_count": 188,
     "metadata": {},
     "output_type": "execute_result"
    }
   ],
   "source": [
    "data.shape"
   ]
  },
  {
   "cell_type": "code",
   "execution_count": 189,
   "metadata": {},
   "outputs": [
    {
     "name": "stderr",
     "output_type": "stream",
     "text": [
      "/var/folders/p2/s867_82x1zb758ysgxvlj2yw0000gn/T/ipykernel_5794/4270914025.py:2: FutureWarning: Downcasting behavior in `replace` is deprecated and will be removed in a future version. To retain the old behavior, explicitly call `result.infer_objects(copy=False)`. To opt-in to the future behavior, set `pd.set_option('future.no_silent_downcasting', True)`\n",
      "  data_replaced = data.replace('--', np.nan)\n"
     ]
    }
   ],
   "source": [
    "#Replace the string '--' with median\n",
    "data_replaced = data.replace('--', np.nan)\n",
    "\n",
    "numeric_columns = data_replaced.columns.drop(['Ticker', 'Name'])\n",
    "\n",
    "data_replaced[numeric_columns] = data_replaced[numeric_columns].apply(pd.to_numeric, errors='coerce')\n",
    "data_replaced[numeric_columns] = data_replaced[numeric_columns].fillna(data_replaced[numeric_columns].median())\n"
   ]
  },
  {
   "cell_type": "code",
   "execution_count": 190,
   "metadata": {},
   "outputs": [
    {
     "data": {
      "text/html": [
       "<div>\n",
       "<style scoped>\n",
       "    .dataframe tbody tr th:only-of-type {\n",
       "        vertical-align: middle;\n",
       "    }\n",
       "\n",
       "    .dataframe tbody tr th {\n",
       "        vertical-align: top;\n",
       "    }\n",
       "\n",
       "    .dataframe thead th {\n",
       "        text-align: right;\n",
       "    }\n",
       "</style>\n",
       "<table border=\"1\" class=\"dataframe\">\n",
       "  <thead>\n",
       "    <tr style=\"text-align: right;\">\n",
       "      <th></th>\n",
       "      <th>Ticker</th>\n",
       "      <th>Name</th>\n",
       "      <th>Weight</th>\n",
       "      <th>Shares</th>\n",
       "      <th>Price</th>\n",
       "      <th>BEst PEG Ratio:Y\\n</th>\n",
       "      <th>Market Cap LF\\n</th>\n",
       "      <th>P/B 5Yr Avg LF\\n</th>\n",
       "      <th>P/S 5Yr Avg LF\\n</th>\n",
       "      <th>Rev Gr Adj 5Y CAGR LF\\n</th>\n",
       "      <th>P/CF 5Yr Avg LF\\n</th>\n",
       "      <th>BV - 5 Yr Geo Gr LF\\n</th>\n",
       "      <th>CF/Sh - 5 Yr Geo Gr LF\\n</th>\n",
       "      <th>Basic EPS - 5 Year Average Growth LF\\n</th>\n",
       "      <th>BEst Est LTG EPS\\n</th>\n",
       "      <th>Dvd Ind Yld\\n</th>\n",
       "      <th>BEst P/E BF12M\\n</th>\n",
       "    </tr>\n",
       "  </thead>\n",
       "  <tbody>\n",
       "    <tr>\n",
       "      <th>0</th>\n",
       "      <td>TGTX UR Equity</td>\n",
       "      <td>TG Therapeutics Inc</td>\n",
       "      <td>NaN</td>\n",
       "      <td>NaN</td>\n",
       "      <td>23.480</td>\n",
       "      <td>1.219984</td>\n",
       "      <td>2.754471e+09</td>\n",
       "      <td>29.274418</td>\n",
       "      <td>35.469791</td>\n",
       "      <td>354.214050</td>\n",
       "      <td>9.402755</td>\n",
       "      <td>51.980770</td>\n",
       "      <td>5.339077</td>\n",
       "      <td>11.328490</td>\n",
       "      <td>183.01</td>\n",
       "      <td>2.786486</td>\n",
       "      <td>33.822326</td>\n",
       "    </tr>\n",
       "    <tr>\n",
       "      <th>1</th>\n",
       "      <td>AXNX UW Equity</td>\n",
       "      <td>Axonics Inc</td>\n",
       "      <td>NaN</td>\n",
       "      <td>NaN</td>\n",
       "      <td>70.140</td>\n",
       "      <td>3.109805</td>\n",
       "      <td>3.429709e+09</td>\n",
       "      <td>4.959128</td>\n",
       "      <td>8.200708</td>\n",
       "      <td>138.390976</td>\n",
       "      <td>9.402755</td>\n",
       "      <td>25.707512</td>\n",
       "      <td>5.339077</td>\n",
       "      <td>11.328490</td>\n",
       "      <td>175.53</td>\n",
       "      <td>2.786486</td>\n",
       "      <td>109.804860</td>\n",
       "    </tr>\n",
       "    <tr>\n",
       "      <th>2</th>\n",
       "      <td>WGS UW Equity</td>\n",
       "      <td>GeneDx Holdings Corp</td>\n",
       "      <td>NaN</td>\n",
       "      <td>NaN</td>\n",
       "      <td>60.250</td>\n",
       "      <td>1.501337</td>\n",
       "      <td>7.038557e+08</td>\n",
       "      <td>1.196106</td>\n",
       "      <td>0.803663</td>\n",
       "      <td>6.413981</td>\n",
       "      <td>9.402755</td>\n",
       "      <td>4.885082</td>\n",
       "      <td>5.339077</td>\n",
       "      <td>11.328490</td>\n",
       "      <td>148.00</td>\n",
       "      <td>2.786486</td>\n",
       "      <td>14.951520</td>\n",
       "    </tr>\n",
       "    <tr>\n",
       "      <th>3</th>\n",
       "      <td>ULCC UW Equity</td>\n",
       "      <td>Frontier Group Holdings Inc</td>\n",
       "      <td>NaN</td>\n",
       "      <td>NaN</td>\n",
       "      <td>6.985</td>\n",
       "      <td>1.501337</td>\n",
       "      <td>1.106645e+09</td>\n",
       "      <td>2.805808</td>\n",
       "      <td>0.402562</td>\n",
       "      <td>8.841541</td>\n",
       "      <td>9.402755</td>\n",
       "      <td>4.885082</td>\n",
       "      <td>5.339077</td>\n",
       "      <td>54.347534</td>\n",
       "      <td>126.26</td>\n",
       "      <td>2.786486</td>\n",
       "      <td>15.980725</td>\n",
       "    </tr>\n",
       "    <tr>\n",
       "      <th>4</th>\n",
       "      <td>RELY UW Equity</td>\n",
       "      <td>Remitly Global Inc</td>\n",
       "      <td>NaN</td>\n",
       "      <td>NaN</td>\n",
       "      <td>14.640</td>\n",
       "      <td>2.770410</td>\n",
       "      <td>3.659426e+09</td>\n",
       "      <td>1.799058</td>\n",
       "      <td>1.667241</td>\n",
       "      <td>6.413981</td>\n",
       "      <td>9.402755</td>\n",
       "      <td>4.885082</td>\n",
       "      <td>5.339077</td>\n",
       "      <td>11.328490</td>\n",
       "      <td>98.00</td>\n",
       "      <td>2.786486</td>\n",
       "      <td>59.219034</td>\n",
       "    </tr>\n",
       "  </tbody>\n",
       "</table>\n",
       "</div>"
      ],
      "text/plain": [
       "           Ticker                         Name  Weight  Shares   Price  \\\n",
       "0  TGTX UR Equity          TG Therapeutics Inc     NaN     NaN  23.480   \n",
       "1  AXNX UW Equity                  Axonics Inc     NaN     NaN  70.140   \n",
       "2   WGS UW Equity         GeneDx Holdings Corp     NaN     NaN  60.250   \n",
       "3  ULCC UW Equity  Frontier Group Holdings Inc     NaN     NaN   6.985   \n",
       "4  RELY UW Equity           Remitly Global Inc     NaN     NaN  14.640   \n",
       "\n",
       "   BEst PEG Ratio:Y\\n  Market Cap LF\\n  P/B 5Yr Avg LF\\n  P/S 5Yr Avg LF\\n  \\\n",
       "0            1.219984     2.754471e+09         29.274418         35.469791   \n",
       "1            3.109805     3.429709e+09          4.959128          8.200708   \n",
       "2            1.501337     7.038557e+08          1.196106          0.803663   \n",
       "3            1.501337     1.106645e+09          2.805808          0.402562   \n",
       "4            2.770410     3.659426e+09          1.799058          1.667241   \n",
       "\n",
       "   Rev Gr Adj 5Y CAGR LF\\n  P/CF 5Yr Avg LF\\n  BV - 5 Yr Geo Gr LF\\n  \\\n",
       "0               354.214050           9.402755              51.980770   \n",
       "1               138.390976           9.402755              25.707512   \n",
       "2                 6.413981           9.402755               4.885082   \n",
       "3                 8.841541           9.402755               4.885082   \n",
       "4                 6.413981           9.402755               4.885082   \n",
       "\n",
       "   CF/Sh - 5 Yr Geo Gr LF\\n  Basic EPS - 5 Year Average Growth LF\\n  \\\n",
       "0                  5.339077                               11.328490   \n",
       "1                  5.339077                               11.328490   \n",
       "2                  5.339077                               11.328490   \n",
       "3                  5.339077                               54.347534   \n",
       "4                  5.339077                               11.328490   \n",
       "\n",
       "   BEst Est LTG EPS\\n  Dvd Ind Yld\\n  BEst P/E BF12M\\n  \n",
       "0              183.01       2.786486         33.822326  \n",
       "1              175.53       2.786486        109.804860  \n",
       "2              148.00       2.786486         14.951520  \n",
       "3              126.26       2.786486         15.980725  \n",
       "4               98.00       2.786486         59.219034  "
      ]
     },
     "execution_count": 190,
     "metadata": {},
     "output_type": "execute_result"
    }
   ],
   "source": [
    "data_replaced.head()"
   ]
  },
  {
   "cell_type": "code",
   "execution_count": 191,
   "metadata": {},
   "outputs": [],
   "source": [
    "X = data_replaced[['BEst PEG Ratio:Y\\n', 'Market Cap LF\\n']]"
   ]
  },
  {
   "cell_type": "code",
   "execution_count": 192,
   "metadata": {},
   "outputs": [
    {
     "data": {
      "text/html": [
       "<div>\n",
       "<style scoped>\n",
       "    .dataframe tbody tr th:only-of-type {\n",
       "        vertical-align: middle;\n",
       "    }\n",
       "\n",
       "    .dataframe tbody tr th {\n",
       "        vertical-align: top;\n",
       "    }\n",
       "\n",
       "    .dataframe thead th {\n",
       "        text-align: right;\n",
       "    }\n",
       "</style>\n",
       "<table border=\"1\" class=\"dataframe\">\n",
       "  <thead>\n",
       "    <tr style=\"text-align: right;\">\n",
       "      <th></th>\n",
       "      <th>BEst PEG Ratio:Y\\n</th>\n",
       "      <th>Market Cap LF\\n</th>\n",
       "    </tr>\n",
       "  </thead>\n",
       "  <tbody>\n",
       "    <tr>\n",
       "      <th>0</th>\n",
       "      <td>1.219984</td>\n",
       "      <td>2.754471e+09</td>\n",
       "    </tr>\n",
       "    <tr>\n",
       "      <th>1</th>\n",
       "      <td>3.109805</td>\n",
       "      <td>3.429709e+09</td>\n",
       "    </tr>\n",
       "    <tr>\n",
       "      <th>2</th>\n",
       "      <td>1.501337</td>\n",
       "      <td>7.038557e+08</td>\n",
       "    </tr>\n",
       "    <tr>\n",
       "      <th>3</th>\n",
       "      <td>1.501337</td>\n",
       "      <td>1.106645e+09</td>\n",
       "    </tr>\n",
       "    <tr>\n",
       "      <th>4</th>\n",
       "      <td>2.770410</td>\n",
       "      <td>3.659426e+09</td>\n",
       "    </tr>\n",
       "  </tbody>\n",
       "</table>\n",
       "</div>"
      ],
      "text/plain": [
       "   BEst PEG Ratio:Y\\n  Market Cap LF\\n\n",
       "0            1.219984     2.754471e+09\n",
       "1            3.109805     3.429709e+09\n",
       "2            1.501337     7.038557e+08\n",
       "3            1.501337     1.106645e+09\n",
       "4            2.770410     3.659426e+09"
      ]
     },
     "execution_count": 192,
     "metadata": {},
     "output_type": "execute_result"
    }
   ],
   "source": [
    "X.head()"
   ]
  },
  {
   "cell_type": "code",
   "execution_count": 193,
   "metadata": {},
   "outputs": [],
   "source": [
    "#Standardize data\n",
    "scaler = StandardScaler()\n",
    "X_scaled = scaler.fit_transform(X)"
   ]
  },
  {
   "cell_type": "code",
   "execution_count": 194,
   "metadata": {},
   "outputs": [
    {
     "data": {
      "text/plain": [
       "array([[-0.07251496,  0.71845625],\n",
       "       [ 0.11792153,  1.11895995],\n",
       "       [-0.04416308, -0.49782424],\n",
       "       ...,\n",
       "       [-0.04416308,  0.22962139],\n",
       "       [-0.04416308, -0.516583  ],\n",
       "       [-0.04416308,  0.82883977]])"
      ]
     },
     "execution_count": 194,
     "metadata": {},
     "output_type": "execute_result"
    }
   ],
   "source": [
    "X_scaled"
   ]
  },
  {
   "cell_type": "code",
   "execution_count": 195,
   "metadata": {},
   "outputs": [],
   "source": [
    "df = pd.DataFrame(X_scaled, columns=['BEst PEG Ratio:Y\\n', 'Market Cap LF\\n'])"
   ]
  },
  {
   "cell_type": "code",
   "execution_count": 196,
   "metadata": {},
   "outputs": [
    {
     "data": {
      "text/html": [
       "<div>\n",
       "<style scoped>\n",
       "    .dataframe tbody tr th:only-of-type {\n",
       "        vertical-align: middle;\n",
       "    }\n",
       "\n",
       "    .dataframe tbody tr th {\n",
       "        vertical-align: top;\n",
       "    }\n",
       "\n",
       "    .dataframe thead th {\n",
       "        text-align: right;\n",
       "    }\n",
       "</style>\n",
       "<table border=\"1\" class=\"dataframe\">\n",
       "  <thead>\n",
       "    <tr style=\"text-align: right;\">\n",
       "      <th></th>\n",
       "      <th>BEst PEG Ratio:Y\\n</th>\n",
       "      <th>Market Cap LF\\n</th>\n",
       "    </tr>\n",
       "  </thead>\n",
       "  <tbody>\n",
       "    <tr>\n",
       "      <th>0</th>\n",
       "      <td>-0.072515</td>\n",
       "      <td>0.718456</td>\n",
       "    </tr>\n",
       "    <tr>\n",
       "      <th>1</th>\n",
       "      <td>0.117922</td>\n",
       "      <td>1.118960</td>\n",
       "    </tr>\n",
       "    <tr>\n",
       "      <th>2</th>\n",
       "      <td>-0.044163</td>\n",
       "      <td>-0.497824</td>\n",
       "    </tr>\n",
       "    <tr>\n",
       "      <th>3</th>\n",
       "      <td>-0.044163</td>\n",
       "      <td>-0.258918</td>\n",
       "    </tr>\n",
       "    <tr>\n",
       "      <th>4</th>\n",
       "      <td>0.083721</td>\n",
       "      <td>1.255212</td>\n",
       "    </tr>\n",
       "    <tr>\n",
       "      <th>...</th>\n",
       "      <td>...</td>\n",
       "      <td>...</td>\n",
       "    </tr>\n",
       "    <tr>\n",
       "      <th>1967</th>\n",
       "      <td>-0.228686</td>\n",
       "      <td>-0.373590</td>\n",
       "    </tr>\n",
       "    <tr>\n",
       "      <th>1968</th>\n",
       "      <td>-0.044163</td>\n",
       "      <td>2.282367</td>\n",
       "    </tr>\n",
       "    <tr>\n",
       "      <th>1969</th>\n",
       "      <td>-0.044163</td>\n",
       "      <td>0.229621</td>\n",
       "    </tr>\n",
       "    <tr>\n",
       "      <th>1970</th>\n",
       "      <td>-0.044163</td>\n",
       "      <td>-0.516583</td>\n",
       "    </tr>\n",
       "    <tr>\n",
       "      <th>1971</th>\n",
       "      <td>-0.044163</td>\n",
       "      <td>0.828840</td>\n",
       "    </tr>\n",
       "  </tbody>\n",
       "</table>\n",
       "<p>1972 rows × 2 columns</p>\n",
       "</div>"
      ],
      "text/plain": [
       "      BEst PEG Ratio:Y\\n  Market Cap LF\\n\n",
       "0              -0.072515         0.718456\n",
       "1               0.117922         1.118960\n",
       "2              -0.044163        -0.497824\n",
       "3              -0.044163        -0.258918\n",
       "4               0.083721         1.255212\n",
       "...                  ...              ...\n",
       "1967           -0.228686        -0.373590\n",
       "1968           -0.044163         2.282367\n",
       "1969           -0.044163         0.229621\n",
       "1970           -0.044163        -0.516583\n",
       "1971           -0.044163         0.828840\n",
       "\n",
       "[1972 rows x 2 columns]"
      ]
     },
     "execution_count": 196,
     "metadata": {},
     "output_type": "execute_result"
    }
   ],
   "source": [
    "df"
   ]
  },
  {
   "cell_type": "code",
   "execution_count": 197,
   "metadata": {},
   "outputs": [],
   "source": [
    "#K-means Clustering\n",
    "n_clusters = 9\n",
    "kmeans = KMeans(n_clusters, random_state=42)\n",
    "kmeans.fit_predict(df)\n",
    "\n",
    "clusters = kmeans.labels_\n",
    "centroids = kmeans.cluster_centers_"
   ]
  },
  {
   "cell_type": "code",
   "execution_count": 198,
   "metadata": {},
   "outputs": [
    {
     "data": {
      "text/plain": [
       "array([0, 5, 3, ..., 0, 3, 5], dtype=int32)"
      ]
     },
     "execution_count": 198,
     "metadata": {},
     "output_type": "execute_result"
    }
   ],
   "source": [
    "clusters"
   ]
  },
  {
   "cell_type": "code",
   "execution_count": 199,
   "metadata": {},
   "outputs": [],
   "source": [
    "df['Cluster'] = clusters\n",
    "data_replaced['Cluster'] = clusters\n",
    "\n",
    "# X_updated = np.column_stack((X_scaled, clusters))"
   ]
  },
  {
   "cell_type": "code",
   "execution_count": 200,
   "metadata": {},
   "outputs": [
    {
     "data": {
      "text/html": [
       "<div>\n",
       "<style scoped>\n",
       "    .dataframe tbody tr th:only-of-type {\n",
       "        vertical-align: middle;\n",
       "    }\n",
       "\n",
       "    .dataframe tbody tr th {\n",
       "        vertical-align: top;\n",
       "    }\n",
       "\n",
       "    .dataframe thead th {\n",
       "        text-align: right;\n",
       "    }\n",
       "</style>\n",
       "<table border=\"1\" class=\"dataframe\">\n",
       "  <thead>\n",
       "    <tr style=\"text-align: right;\">\n",
       "      <th></th>\n",
       "      <th>BEst PEG Ratio:Y\\n</th>\n",
       "      <th>Market Cap LF\\n</th>\n",
       "      <th>Cluster</th>\n",
       "    </tr>\n",
       "  </thead>\n",
       "  <tbody>\n",
       "    <tr>\n",
       "      <th>0</th>\n",
       "      <td>-0.072515</td>\n",
       "      <td>0.718456</td>\n",
       "      <td>0</td>\n",
       "    </tr>\n",
       "    <tr>\n",
       "      <th>1</th>\n",
       "      <td>0.117922</td>\n",
       "      <td>1.118960</td>\n",
       "      <td>5</td>\n",
       "    </tr>\n",
       "    <tr>\n",
       "      <th>2</th>\n",
       "      <td>-0.044163</td>\n",
       "      <td>-0.497824</td>\n",
       "      <td>3</td>\n",
       "    </tr>\n",
       "    <tr>\n",
       "      <th>3</th>\n",
       "      <td>-0.044163</td>\n",
       "      <td>-0.258918</td>\n",
       "      <td>3</td>\n",
       "    </tr>\n",
       "    <tr>\n",
       "      <th>4</th>\n",
       "      <td>0.083721</td>\n",
       "      <td>1.255212</td>\n",
       "      <td>5</td>\n",
       "    </tr>\n",
       "  </tbody>\n",
       "</table>\n",
       "</div>"
      ],
      "text/plain": [
       "   BEst PEG Ratio:Y\\n  Market Cap LF\\n  Cluster\n",
       "0           -0.072515         0.718456        0\n",
       "1            0.117922         1.118960        5\n",
       "2           -0.044163        -0.497824        3\n",
       "3           -0.044163        -0.258918        3\n",
       "4            0.083721         1.255212        5"
      ]
     },
     "execution_count": 200,
     "metadata": {},
     "output_type": "execute_result"
    }
   ],
   "source": [
    "df.head()"
   ]
  },
  {
   "cell_type": "code",
   "execution_count": 201,
   "metadata": {},
   "outputs": [
    {
     "data": {
      "text/plain": [
       "array([[-2.38230281e-02,  2.30491635e-01],\n",
       "       [ 4.26414287e-02,  2.85025563e+00],\n",
       "       [ 2.66175062e+01,  6.55491672e-01],\n",
       "       [-5.55048299e-02, -6.06272704e-01],\n",
       "       [ 9.19666999e+00,  4.19959073e-01],\n",
       "       [-2.46616183e-02,  1.30349913e+00],\n",
       "       [ 1.69374027e+01,  9.12029028e-01],\n",
       "       [-9.76727327e+00,  8.48790941e-01],\n",
       "       [-9.93087173e-02,  1.15673077e+01]])"
      ]
     },
     "execution_count": 201,
     "metadata": {},
     "output_type": "execute_result"
    }
   ],
   "source": [
    "centroids"
   ]
  },
  {
   "cell_type": "code",
   "execution_count": 202,
   "metadata": {},
   "outputs": [
    {
     "data": {
      "image/png": "[encoded data removed]",
      "text/plain": [
       "<Figure size 1000x600 with 2 Axes>"
      ]
     },
     "metadata": {},
     "output_type": "display_data"
    }
   ],
   "source": [
    "#Plot the clusters\n",
    "plt.figure(figsize=(10,6))\n",
    "plt.scatter(df['BEst PEG Ratio:Y\\n'], df['Market Cap LF\\n'], c=df['Cluster'], cmap='viridis', alpha=0.5)\n",
    "# plt.scatter(X_updated[:, 0], X_updated[:, 1], c=X_updated[:, 2], cmap='viridis', alpha=0.5)\n",
    "\n",
    "#Plot centroids\n",
    "plt.scatter(centroids[:, 0], centroids[:, 1], c='red', s=100, marker='x')\n",
    "\n",
    "plt.xlabel('PEG Ratio')\n",
    "plt.ylabel('Market Cap')\n",
    "plt.title('K-Means Clustering of Russell 2000 Index Companies')\n",
    "plt.colorbar(label='Cluster')\n",
    "plt.show()\n",
    "\n"
   ]
  },
  {
   "cell_type": "code",
   "execution_count": 203,
   "metadata": {},
   "outputs": [
    {
     "data": {
      "image/png": "[encoded data removed]",
      "text/plain": [
       "<Figure size 1000x600 with 1 Axes>"
      ]
     },
     "metadata": {},
     "output_type": "display_data"
    },
    {
     "name": "stdout",
     "output_type": "stream",
     "text": [
      "         Market Cap LF\\n  BEst PEG Ratio:Y\\n\n",
      "Cluster                                     \n",
      "0               0.230492           -0.023823\n",
      "1               2.850256            0.042641\n",
      "2               0.655492           26.617506\n",
      "3              -0.606273           -0.055505\n",
      "4               0.419959            9.196670\n",
      "5               1.303499           -0.024662\n",
      "6               0.912029           16.937403\n",
      "7               0.848791           -9.767273\n",
      "8              11.567308           -0.099309\n"
     ]
    }
   ],
   "source": [
    "#Histogram of clusters\n",
    "plt.figure(figsize=(10, 6))\n",
    "plt.hist(df['Cluster'], bins=20, color='skyblue', edgecolor='black')\n",
    "plt.xlabel('Value')\n",
    "plt.ylabel('Frequency')\n",
    "plt.title('Histogram of Cluster')\n",
    "plt.show()\n",
    "\n",
    "result = df.groupby('Cluster')[['Market Cap LF\\n', 'BEst PEG Ratio:Y\\n']].mean()\n",
    "print(result)"
   ]
  },
  {
   "cell_type": "code",
   "execution_count": 204,
   "metadata": {},
   "outputs": [],
   "source": [
    "#MorngingStar Style Box\n",
    "\n",
    "data_replaced['Value Score'] = (\n",
    "                                data_replaced['BEst P/E BF12M\\n'] * 0.50 + \n",
    "                                data_replaced['P/B 5Yr Avg LF\\n'] * 0.125 + \n",
    "                                data_replaced['P/S 5Yr Avg LF\\n'] * 0.125 + \n",
    "                                data_replaced['P/CF 5Yr Avg LF\\n'] * 0.125 + \n",
    "                                data_replaced['Dvd Ind Yld\\n'] * 0.125\n",
    "                                )\n",
    "\n",
    "data_replaced['Growth Score'] = (data_replaced['BEst Est LTG EPS\\n'] * 0.50 + \n",
    "                                 data_replaced['Basic EPS - 5 Year Average Growth LF\\n'] * 0.125 + \n",
    "                                 data_replaced['Rev Gr Adj 5Y CAGR LF\\n'] * 0.125 +\n",
    "                                 data_replaced['CF/Sh - 5 Yr Geo Gr LF\\n'] * 0.125 +\n",
    "                                 data_replaced['BV - 5 Yr Geo Gr LF\\n'] * 0.125\n",
    "                                 )"
   ]
  },
  {
   "cell_type": "code",
   "execution_count": 205,
   "metadata": {},
   "outputs": [
    {
     "data": {
      "text/html": [
       "<div>\n",
       "<style scoped>\n",
       "    .dataframe tbody tr th:only-of-type {\n",
       "        vertical-align: middle;\n",
       "    }\n",
       "\n",
       "    .dataframe tbody tr th {\n",
       "        vertical-align: top;\n",
       "    }\n",
       "\n",
       "    .dataframe thead th {\n",
       "        text-align: right;\n",
       "    }\n",
       "</style>\n",
       "<table border=\"1\" class=\"dataframe\">\n",
       "  <thead>\n",
       "    <tr style=\"text-align: right;\">\n",
       "      <th></th>\n",
       "      <th>Weight</th>\n",
       "      <th>Shares</th>\n",
       "      <th>Price</th>\n",
       "      <th>BEst PEG Ratio:Y\\n</th>\n",
       "      <th>Market Cap LF\\n</th>\n",
       "      <th>P/B 5Yr Avg LF\\n</th>\n",
       "      <th>P/S 5Yr Avg LF\\n</th>\n",
       "      <th>Rev Gr Adj 5Y CAGR LF\\n</th>\n",
       "      <th>P/CF 5Yr Avg LF\\n</th>\n",
       "      <th>BV - 5 Yr Geo Gr LF\\n</th>\n",
       "      <th>CF/Sh - 5 Yr Geo Gr LF\\n</th>\n",
       "      <th>Basic EPS - 5 Year Average Growth LF\\n</th>\n",
       "      <th>BEst Est LTG EPS\\n</th>\n",
       "      <th>Dvd Ind Yld\\n</th>\n",
       "      <th>BEst P/E BF12M\\n</th>\n",
       "      <th>Cluster</th>\n",
       "      <th>Value Score</th>\n",
       "      <th>Growth Score</th>\n",
       "    </tr>\n",
       "  </thead>\n",
       "  <tbody>\n",
       "    <tr>\n",
       "      <th>count</th>\n",
       "      <td>0.0</td>\n",
       "      <td>0.0</td>\n",
       "      <td>1972.000000</td>\n",
       "      <td>1972.000000</td>\n",
       "      <td>1.972000e+03</td>\n",
       "      <td>1972.000000</td>\n",
       "      <td>1972.000000</td>\n",
       "      <td>1972.000000</td>\n",
       "      <td>1972.000000</td>\n",
       "      <td>1972.000000</td>\n",
       "      <td>1972.000000</td>\n",
       "      <td>1972.000000</td>\n",
       "      <td>1972.000000</td>\n",
       "      <td>1972.000000</td>\n",
       "      <td>1972.000000</td>\n",
       "      <td>1972.000000</td>\n",
       "      <td>1972.000000</td>\n",
       "      <td>1972.000000</td>\n",
       "    </tr>\n",
       "    <tr>\n",
       "      <th>mean</th>\n",
       "      <td>NaN</td>\n",
       "      <td>NaN</td>\n",
       "      <td>34.325246</td>\n",
       "      <td>1.939595</td>\n",
       "      <td>1.543174e+09</td>\n",
       "      <td>3.222878</td>\n",
       "      <td>31.739085</td>\n",
       "      <td>9.643783</td>\n",
       "      <td>16.074598</td>\n",
       "      <td>4.997912</td>\n",
       "      <td>6.666194</td>\n",
       "      <td>15.527574</td>\n",
       "      <td>4.405968</td>\n",
       "      <td>3.141757</td>\n",
       "      <td>28.364633</td>\n",
       "      <td>2.415314</td>\n",
       "      <td>20.954606</td>\n",
       "      <td>6.807417</td>\n",
       "    </tr>\n",
       "    <tr>\n",
       "      <th>std</th>\n",
       "      <td>NaN</td>\n",
       "      <td>NaN</td>\n",
       "      <td>48.733793</td>\n",
       "      <td>9.926148</td>\n",
       "      <td>1.686400e+09</td>\n",
       "      <td>8.415778</td>\n",
       "      <td>559.860516</td>\n",
       "      <td>28.025908</td>\n",
       "      <td>108.350624</td>\n",
       "      <td>18.171221</td>\n",
       "      <td>16.890159</td>\n",
       "      <td>149.869552</td>\n",
       "      <td>14.515570</td>\n",
       "      <td>5.061731</td>\n",
       "      <td>163.194413</td>\n",
       "      <td>1.621591</td>\n",
       "      <td>108.303692</td>\n",
       "      <td>21.009226</td>\n",
       "    </tr>\n",
       "    <tr>\n",
       "      <th>min</th>\n",
       "      <td>NaN</td>\n",
       "      <td>NaN</td>\n",
       "      <td>0.115500</td>\n",
       "      <td>-121.067371</td>\n",
       "      <td>1.811160e+07</td>\n",
       "      <td>0.279001</td>\n",
       "      <td>0.028581</td>\n",
       "      <td>-100.000000</td>\n",
       "      <td>0.174408</td>\n",
       "      <td>-100.000000</td>\n",
       "      <td>-100.000000</td>\n",
       "      <td>-2017.131592</td>\n",
       "      <td>-117.420000</td>\n",
       "      <td>0.047020</td>\n",
       "      <td>1.580411</td>\n",
       "      <td>0.000000</td>\n",
       "      <td>1.605203</td>\n",
       "      <td>-252.358982</td>\n",
       "    </tr>\n",
       "    <tr>\n",
       "      <th>25%</th>\n",
       "      <td>NaN</td>\n",
       "      <td>NaN</td>\n",
       "      <td>7.995000</td>\n",
       "      <td>1.501337</td>\n",
       "      <td>3.915286e+08</td>\n",
       "      <td>1.213331</td>\n",
       "      <td>0.922655</td>\n",
       "      <td>4.324611</td>\n",
       "      <td>8.164119</td>\n",
       "      <td>1.734294</td>\n",
       "      <td>5.339077</td>\n",
       "      <td>11.328490</td>\n",
       "      <td>0.000000</td>\n",
       "      <td>2.786486</td>\n",
       "      <td>12.236441</td>\n",
       "      <td>0.000000</td>\n",
       "      <td>8.127605</td>\n",
       "      <td>2.265364</td>\n",
       "    </tr>\n",
       "    <tr>\n",
       "      <th>50%</th>\n",
       "      <td>NaN</td>\n",
       "      <td>NaN</td>\n",
       "      <td>18.305000</td>\n",
       "      <td>1.501337</td>\n",
       "      <td>9.217634e+08</td>\n",
       "      <td>1.799058</td>\n",
       "      <td>1.667241</td>\n",
       "      <td>6.413981</td>\n",
       "      <td>9.402755</td>\n",
       "      <td>4.885082</td>\n",
       "      <td>5.339077</td>\n",
       "      <td>11.328490</td>\n",
       "      <td>0.000000</td>\n",
       "      <td>2.786486</td>\n",
       "      <td>14.951520</td>\n",
       "      <td>3.000000</td>\n",
       "      <td>9.579681</td>\n",
       "      <td>3.628632</td>\n",
       "    </tr>\n",
       "    <tr>\n",
       "      <th>75%</th>\n",
       "      <td>NaN</td>\n",
       "      <td>NaN</td>\n",
       "      <td>40.077500</td>\n",
       "      <td>1.501337</td>\n",
       "      <td>2.136014e+09</td>\n",
       "      <td>2.829447</td>\n",
       "      <td>2.735392</td>\n",
       "      <td>8.806523</td>\n",
       "      <td>10.944803</td>\n",
       "      <td>8.094413</td>\n",
       "      <td>5.339077</td>\n",
       "      <td>11.328490</td>\n",
       "      <td>0.000000</td>\n",
       "      <td>2.786486</td>\n",
       "      <td>18.423157</td>\n",
       "      <td>3.000000</td>\n",
       "      <td>13.507479</td>\n",
       "      <td>9.220434</td>\n",
       "    </tr>\n",
       "    <tr>\n",
       "      <th>max</th>\n",
       "      <td>NaN</td>\n",
       "      <td>NaN</td>\n",
       "      <td>778.280000</td>\n",
       "      <td>266.081895</td>\n",
       "      <td>2.145804e+10</td>\n",
       "      <td>265.950867</td>\n",
       "      <td>23254.423828</td>\n",
       "      <td>427.076691</td>\n",
       "      <td>4598.741699</td>\n",
       "      <td>334.566162</td>\n",
       "      <td>215.143387</td>\n",
       "      <td>4677.399902</td>\n",
       "      <td>183.010000</td>\n",
       "      <td>212.201599</td>\n",
       "      <td>4966.027842</td>\n",
       "      <td>8.000000</td>\n",
       "      <td>2916.168062</td>\n",
       "      <td>588.178035</td>\n",
       "    </tr>\n",
       "  </tbody>\n",
       "</table>\n",
       "</div>"
      ],
      "text/plain": [
       "       Weight  Shares        Price  BEst PEG Ratio:Y\\n  Market Cap LF\\n  \\\n",
       "count     0.0     0.0  1972.000000         1972.000000     1.972000e+03   \n",
       "mean      NaN     NaN    34.325246            1.939595     1.543174e+09   \n",
       "std       NaN     NaN    48.733793            9.926148     1.686400e+09   \n",
       "min       NaN     NaN     0.115500         -121.067371     1.811160e+07   \n",
       "25%       NaN     NaN     7.995000            1.501337     3.915286e+08   \n",
       "50%       NaN     NaN    18.305000            1.501337     9.217634e+08   \n",
       "75%       NaN     NaN    40.077500            1.501337     2.136014e+09   \n",
       "max       NaN     NaN   778.280000          266.081895     2.145804e+10   \n",
       "\n",
       "       P/B 5Yr Avg LF\\n  P/S 5Yr Avg LF\\n  Rev Gr Adj 5Y CAGR LF\\n  \\\n",
       "count       1972.000000       1972.000000              1972.000000   \n",
       "mean           3.222878         31.739085                 9.643783   \n",
       "std            8.415778        559.860516                28.025908   \n",
       "min            0.279001          0.028581              -100.000000   \n",
       "25%            1.213331          0.922655                 4.324611   \n",
       "50%            1.799058          1.667241                 6.413981   \n",
       "75%            2.829447          2.735392                 8.806523   \n",
       "max          265.950867      23254.423828               427.076691   \n",
       "\n",
       "       P/CF 5Yr Avg LF\\n  BV - 5 Yr Geo Gr LF\\n  CF/Sh - 5 Yr Geo Gr LF\\n  \\\n",
       "count        1972.000000            1972.000000               1972.000000   \n",
       "mean           16.074598               4.997912                  6.666194   \n",
       "std           108.350624              18.171221                 16.890159   \n",
       "min             0.174408            -100.000000               -100.000000   \n",
       "25%             8.164119               1.734294                  5.339077   \n",
       "50%             9.402755               4.885082                  5.339077   \n",
       "75%            10.944803               8.094413                  5.339077   \n",
       "max          4598.741699             334.566162                215.143387   \n",
       "\n",
       "       Basic EPS - 5 Year Average Growth LF\\n  BEst Est LTG EPS\\n  \\\n",
       "count                             1972.000000         1972.000000   \n",
       "mean                                15.527574            4.405968   \n",
       "std                                149.869552           14.515570   \n",
       "min                              -2017.131592         -117.420000   \n",
       "25%                                 11.328490            0.000000   \n",
       "50%                                 11.328490            0.000000   \n",
       "75%                                 11.328490            0.000000   \n",
       "max                               4677.399902          183.010000   \n",
       "\n",
       "       Dvd Ind Yld\\n  BEst P/E BF12M\\n      Cluster  Value Score  Growth Score  \n",
       "count    1972.000000       1972.000000  1972.000000  1972.000000   1972.000000  \n",
       "mean        3.141757         28.364633     2.415314    20.954606      6.807417  \n",
       "std         5.061731        163.194413     1.621591   108.303692     21.009226  \n",
       "min         0.047020          1.580411     0.000000     1.605203   -252.358982  \n",
       "25%         2.786486         12.236441     0.000000     8.127605      2.265364  \n",
       "50%         2.786486         14.951520     3.000000     9.579681      3.628632  \n",
       "75%         2.786486         18.423157     3.000000    13.507479      9.220434  \n",
       "max       212.201599       4966.027842     8.000000  2916.168062    588.178035  "
      ]
     },
     "execution_count": 205,
     "metadata": {},
     "output_type": "execute_result"
    }
   ],
   "source": [
    "data_replaced.describe()"
   ]
  },
  {
   "cell_type": "code",
   "execution_count": 206,
   "metadata": {},
   "outputs": [],
   "source": [
    "#Determine Style \n",
    "def determine_style(row):\n",
    "    score_diff = row['Growth Score'] - row['Value Score']\n",
    "    if score_diff > threshold:\n",
    "        return 'Growth'\n",
    "    elif score_diff < -threshold:\n",
    "        return 'Value'\n",
    "    else:\n",
    "        return 'Blend'"
   ]
  },
  {
   "cell_type": "code",
   "execution_count": 207,
   "metadata": {},
   "outputs": [],
   "source": [
    "threshold = 4\n",
    "data_replaced['Style'] = data_replaced.apply(determine_style, axis=1)"
   ]
  },
  {
   "cell_type": "code",
   "execution_count": 208,
   "metadata": {},
   "outputs": [
    {
     "data": {
      "image/png": "[encoded data removed]",
      "text/plain": [
       "<Figure size 640x480 with 1 Axes>"
      ]
     },
     "metadata": {},
     "output_type": "display_data"
    }
   ],
   "source": [
    "fig, ax = plt.subplots()\n",
    "colors = {'Value':'red', 'Growth':'blue', 'Blend':'green'}\n",
    "ax.scatter(data_replaced['Growth Score'], data_replaced['Market Cap LF\\n'], \n",
    "           c=data_replaced['Style'].apply(lambda x: colors[x]))\n",
    "\n",
    "plt.xlabel('Growth Score')\n",
    "plt.ylabel('Market Cap')\n",
    "plt.grid(True)\n",
    "plt.show()"
   ]
  },
  {
   "cell_type": "code",
   "execution_count": 209,
   "metadata": {},
   "outputs": [],
   "source": [
    "#Classify Size\n",
    "def classify_size(market_cap):\n",
    "    if market_cap > large_cap_threshold:\n",
    "        return 'Large'\n",
    "    elif market_cap > mid_cap_threshold:\n",
    "        return 'Mid'\n",
    "    else:\n",
    "        return 'Small'"
   ]
  },
  {
   "cell_type": "code",
   "execution_count": 210,
   "metadata": {},
   "outputs": [],
   "source": [
    "large_cap_threshold = 10e09\n",
    "mid_cap_threshold = 1.5e09\n",
    "\n",
    "data_replaced['Size'] = data_replaced['Market Cap LF\\n'].apply(classify_size)"
   ]
  },
  {
   "cell_type": "code",
   "execution_count": 211,
   "metadata": {},
   "outputs": [],
   "source": [
    "#Select companies to compare cluster positioning with that of Morningstar rating\n",
    "selected_companies = data_replaced.iloc[[0, 1, 2, 3, 4]]"
   ]
  },
  {
   "cell_type": "code",
   "execution_count": 212,
   "metadata": {},
   "outputs": [
    {
     "data": {
      "image/png": "[encoded data removed]",
      "text/plain": [
       "<Figure size 800x800 with 1 Axes>"
      ]
     },
     "metadata": {},
     "output_type": "display_data"
    }
   ],
   "source": [
    "fig, ax = plt.subplots(figsize=(8,8))\n",
    "\n",
    "ax.scatter(data_replaced['Value Score'], data_replaced['Growth Score'], c='blue', alpha=0.6, edgecolors='w', s=100)\n",
    "\n",
    "ax.scatter(selected_companies['Value Score'], selected_companies['Growth Score'], c='red', marker='X', s=70)\n",
    "\n",
    "ax.set_xticks([-300, 0, 300])\n",
    "ax.set_xticklabels(['Value', 'Blend', 'Growth'])\n",
    "ax.set_yticks([-300, 0, 300])\n",
    "ax.set_yticklabels(['Small', 'Medium', 'Large'])\n",
    "\n",
    "\n",
    "plt.xlabel('Value Score')\n",
    "plt.ylabel('Growth Score')\n",
    "plt.title('Morningstar Style Box')\n",
    "plt.xlim(-300, 300)\n",
    "plt.ylim(-300, 300)\n",
    "plt.axvline(x=-100, color='grey', linestyle='--')\n",
    "plt.axvline(x=100, color='grey', linestyle='--')\n",
    "plt.axhline(y=-100, color='grey', linestyle='--')\n",
    "plt.axhline(y=100, color='grey', linestyle='--')\n",
    "plt.grid(True)\n",
    "plt.show()"
   ]
  },
  {
   "cell_type": "code",
   "execution_count": 213,
   "metadata": {},
   "outputs": [
    {
     "data": {
      "image/png": "[encoded data removed]",
      "text/plain": [
       "<Figure size 1200x600 with 2 Axes>"
      ]
     },
     "metadata": {},
     "output_type": "display_data"
    }
   ],
   "source": [
    "#Compare Cluster positioning of K-means with that of Morningstar ratings\n",
    "fig, (ax1, ax2) = plt.subplots(1, 2, figsize=(12, 6))\n",
    "\n",
    "ax1.scatter(df.iloc[:5]['BEst PEG Ratio:Y\\n'], df.iloc[:5]['Market Cap LF\\n'], c=df.iloc[:5]['Cluster'], cmap='viridis')\n",
    "ax1.set_xlabel('PEG Ratio')\n",
    "ax1.set_ylabel('Market Cap')\n",
    "ax1.set_title('K-means Clustering')\n",
    "\n",
    "ax2.scatter(data_replaced.iloc[:5]['Value Score'], data_replaced.iloc[:5]['Market Cap LF\\n'], c=data_replaced[:5]['Cluster'], cmap='viridis')\n",
    "ax2.set_xlabel('Value Score')\n",
    "ax2.set_ylabel('Market Cap')\n",
    "ax2.set_title('Morningstar Rating')\n",
    "\n",
    "plt.tight_layout()\n",
    "plt.show()"
   ]
  },
  {
   "cell_type": "code",
   "execution_count": null,
   "metadata": {},
   "outputs": [],
   "source": []
  },
  {
   "cell_type": "code",
   "execution_count": 215,
   "metadata": {},
   "outputs": [
    {
     "name": "stdout",
     "output_type": "stream",
     "text": [
      "1380 592\n",
      "Accuracy of KNN on test set: 0.9797297297297297\n"
     ]
    }
   ],
   "source": [
    "#KNN\n",
    "X = df[['BEst PEG Ratio:Y\\n', 'Market Cap LF\\n']]\n",
    "y = df['Cluster']\n",
    "\n",
    "X_train, X_test, y_train, y_test = train_test_split(X, y, test_size=0.3, random_state=42)\n",
    "print(len(X_train), len(X_test))\n",
    "\n",
    "k_neighbors = 9 #You can adjust this value\n",
    "\n",
    "knn = KNeighborsClassifier(n_neighbors=k_neighbors)\n",
    "knn.fit(X_train, y_train)\n",
    "\n",
    "y_pred = knn.predict(X_test)\n",
    "\n",
    "accuracy = accuracy_score(y_test, y_pred)\n",
    "print(f'Accuracy of KNN on test set:', accuracy)"
   ]
  },
  {
   "cell_type": "code",
   "execution_count": 216,
   "metadata": {},
   "outputs": [],
   "source": [
    "new_stock = [[15, 2.5e9]] #PEG 15 and Market Cap = $2.5 billion\n",
    "\n",
    "new_stock_scaled = scaler.fit_transform(new_stock)"
   ]
  },
  {
   "cell_type": "code",
   "execution_count": 217,
   "metadata": {},
   "outputs": [
    {
     "name": "stdout",
     "output_type": "stream",
     "text": [
      "The new stock belongs to the cluster: 0\n"
     ]
    },
    {
     "name": "stderr",
     "output_type": "stream",
     "text": [
      "/Library/Frameworks/Python.framework/Versions/3.12/lib/python3.12/site-packages/sklearn/base.py:493: UserWarning: X does not have valid feature names, but KNeighborsClassifier was fitted with feature names\n",
      "  warnings.warn(\n"
     ]
    }
   ],
   "source": [
    "predicted_cluster = knn.predict(new_stock_scaled)\n",
    "\n",
    "print(f'The new stock belongs to the cluster: {predicted_cluster[0]}')"
   ]
  },
  {
   "cell_type": "code",
   "execution_count": null,
   "metadata": {},
   "outputs": [],
   "source": []
  }
 ],
 "metadata": {
  "kernelspec": {
   "display_name": "Python 3",
   "language": "python",
   "name": "python3"
  },
  "language_info": {
   "codemirror_mode": {
    "name": "ipython",
    "version": 3
   },
   "file_extension": ".py",
   "mimetype": "text/x-python",
   "name": "python",
   "nbconvert_exporter": "python",
   "pygments_lexer": "ipython3",
   "version": "3.12.5"
  }
 },
 "nbformat": 4,
 "nbformat_minor": 2
}
